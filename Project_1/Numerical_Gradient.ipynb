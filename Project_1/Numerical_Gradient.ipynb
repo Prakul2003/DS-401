{
 "cells": [
  {
   "cell_type": "markdown",
   "id": "8472d153-7c63-4031-875b-5ae644f8b9ed",
   "metadata": {},
   "source": [
    "### Importing Necessary Libraries "
   ]
  },
  {
   "cell_type": "code",
   "execution_count": 3,
   "id": "c7bbabb9-9ecc-4e84-89f5-f4eee45d7f5f",
   "metadata": {},
   "outputs": [],
   "source": [
    "import numpy as np\n",
    "import pandas as pd\n"
   ]
  },
  {
   "cell_type": "markdown",
   "id": "69701061-2fa2-41bf-8540-9acf490bc0eb",
   "metadata": {},
   "source": [
    "### Reading CSV files"
   ]
  },
  {
   "cell_type": "code",
   "execution_count": 26,
   "id": "8b15d701-b73a-443f-b894-0985387961ac",
   "metadata": {},
   "outputs": [],
   "source": [
    "data_linear=pd.read_csv(\"linear_regression.csv\")\n",
    "data_logistic=pd.read_csv(\"logistic regression dataset-Social_Network_Ads.csv\")"
   ]
  },
  {
   "cell_type": "code",
   "execution_count": 27,
   "id": "93f74ec9-f841-41d1-8ce2-5c47715c559d",
   "metadata": {},
   "outputs": [
    {
     "data": {
      "text/html": [
       "<div>\n",
       "<style scoped>\n",
       "    .dataframe tbody tr th:only-of-type {\n",
       "        vertical-align: middle;\n",
       "    }\n",
       "\n",
       "    .dataframe tbody tr th {\n",
       "        vertical-align: top;\n",
       "    }\n",
       "\n",
       "    .dataframe thead th {\n",
       "        text-align: right;\n",
       "    }\n",
       "</style>\n",
       "<table border=\"1\" class=\"dataframe\">\n",
       "  <thead>\n",
       "    <tr style=\"text-align: right;\">\n",
       "      <th></th>\n",
       "      <th>age</th>\n",
       "      <th>sex</th>\n",
       "      <th>bmi</th>\n",
       "      <th>children</th>\n",
       "      <th>smoker</th>\n",
       "      <th>region</th>\n",
       "      <th>charges</th>\n",
       "    </tr>\n",
       "  </thead>\n",
       "  <tbody>\n",
       "    <tr>\n",
       "      <th>0</th>\n",
       "      <td>19</td>\n",
       "      <td>female</td>\n",
       "      <td>27.900</td>\n",
       "      <td>0</td>\n",
       "      <td>yes</td>\n",
       "      <td>southwest</td>\n",
       "      <td>16884.92400</td>\n",
       "    </tr>\n",
       "    <tr>\n",
       "      <th>1</th>\n",
       "      <td>18</td>\n",
       "      <td>male</td>\n",
       "      <td>33.770</td>\n",
       "      <td>1</td>\n",
       "      <td>no</td>\n",
       "      <td>southeast</td>\n",
       "      <td>1725.55230</td>\n",
       "    </tr>\n",
       "    <tr>\n",
       "      <th>2</th>\n",
       "      <td>28</td>\n",
       "      <td>male</td>\n",
       "      <td>33.000</td>\n",
       "      <td>3</td>\n",
       "      <td>no</td>\n",
       "      <td>southeast</td>\n",
       "      <td>4449.46200</td>\n",
       "    </tr>\n",
       "    <tr>\n",
       "      <th>3</th>\n",
       "      <td>33</td>\n",
       "      <td>male</td>\n",
       "      <td>22.705</td>\n",
       "      <td>0</td>\n",
       "      <td>no</td>\n",
       "      <td>northwest</td>\n",
       "      <td>21984.47061</td>\n",
       "    </tr>\n",
       "    <tr>\n",
       "      <th>4</th>\n",
       "      <td>32</td>\n",
       "      <td>male</td>\n",
       "      <td>28.880</td>\n",
       "      <td>0</td>\n",
       "      <td>no</td>\n",
       "      <td>northwest</td>\n",
       "      <td>3866.85520</td>\n",
       "    </tr>\n",
       "  </tbody>\n",
       "</table>\n",
       "</div>"
      ],
      "text/plain": [
       "   age     sex     bmi  children smoker     region      charges\n",
       "0   19  female  27.900         0    yes  southwest  16884.92400\n",
       "1   18    male  33.770         1     no  southeast   1725.55230\n",
       "2   28    male  33.000         3     no  southeast   4449.46200\n",
       "3   33    male  22.705         0     no  northwest  21984.47061\n",
       "4   32    male  28.880         0     no  northwest   3866.85520"
      ]
     },
     "execution_count": 27,
     "metadata": {},
     "output_type": "execute_result"
    }
   ],
   "source": [
    "data_linear.head()"
   ]
  },
  {
   "cell_type": "code",
   "execution_count": 99,
   "id": "9f556059-6e3d-4e96-a2b1-fb81a81d8a99",
   "metadata": {},
   "outputs": [
    {
     "data": {
      "text/html": [
       "<div>\n",
       "<style scoped>\n",
       "    .dataframe tbody tr th:only-of-type {\n",
       "        vertical-align: middle;\n",
       "    }\n",
       "\n",
       "    .dataframe tbody tr th {\n",
       "        vertical-align: top;\n",
       "    }\n",
       "\n",
       "    .dataframe thead th {\n",
       "        text-align: right;\n",
       "    }\n",
       "</style>\n",
       "<table border=\"1\" class=\"dataframe\">\n",
       "  <thead>\n",
       "    <tr style=\"text-align: right;\">\n",
       "      <th></th>\n",
       "      <th>User ID</th>\n",
       "      <th>Gender</th>\n",
       "      <th>Age</th>\n",
       "      <th>EstimatedSalary</th>\n",
       "      <th>Purchased</th>\n",
       "    </tr>\n",
       "  </thead>\n",
       "  <tbody>\n",
       "    <tr>\n",
       "      <th>0</th>\n",
       "      <td>15624510</td>\n",
       "      <td>0</td>\n",
       "      <td>19</td>\n",
       "      <td>19000</td>\n",
       "      <td>-1</td>\n",
       "    </tr>\n",
       "    <tr>\n",
       "      <th>1</th>\n",
       "      <td>15810944</td>\n",
       "      <td>0</td>\n",
       "      <td>35</td>\n",
       "      <td>20000</td>\n",
       "      <td>-1</td>\n",
       "    </tr>\n",
       "    <tr>\n",
       "      <th>2</th>\n",
       "      <td>15668575</td>\n",
       "      <td>1</td>\n",
       "      <td>26</td>\n",
       "      <td>43000</td>\n",
       "      <td>-1</td>\n",
       "    </tr>\n",
       "    <tr>\n",
       "      <th>3</th>\n",
       "      <td>15603246</td>\n",
       "      <td>1</td>\n",
       "      <td>27</td>\n",
       "      <td>57000</td>\n",
       "      <td>-1</td>\n",
       "    </tr>\n",
       "    <tr>\n",
       "      <th>4</th>\n",
       "      <td>15804002</td>\n",
       "      <td>0</td>\n",
       "      <td>19</td>\n",
       "      <td>76000</td>\n",
       "      <td>-1</td>\n",
       "    </tr>\n",
       "  </tbody>\n",
       "</table>\n",
       "</div>"
      ],
      "text/plain": [
       "    User ID  Gender  Age  EstimatedSalary  Purchased\n",
       "0  15624510       0   19            19000         -1\n",
       "1  15810944       0   35            20000         -1\n",
       "2  15668575       1   26            43000         -1\n",
       "3  15603246       1   27            57000         -1\n",
       "4  15804002       0   19            76000         -1"
      ]
     },
     "execution_count": 99,
     "metadata": {},
     "output_type": "execute_result"
    }
   ],
   "source": [
    "data_logistic.head()"
   ]
  },
  {
   "cell_type": "markdown",
   "id": "e4e99c5c-28a6-4855-9545-572a5e74c0d5",
   "metadata": {},
   "source": [
    "### Defining Numerical Gradient Function"
   ]
  },
  {
   "cell_type": "code",
   "execution_count": 29,
   "id": "08d15eb5-d498-4085-b9f6-078935a8d50d",
   "metadata": {},
   "outputs": [],
   "source": [
    "def numericalGrad(funObj,w,epsilon):\n",
    "    m=w.shape\n",
    "    grad=np.zeros(m)\n",
    "    for i in range(m[0]):\n",
    "        wp=np.copy(w)\n",
    "        wn=np.copy(w)\n",
    "        wp[i] = w[i] + epsilon\n",
    "        wn[i] = w[i] - epsilon\n",
    "        grad[i] = (funObj(wp)-funObj(wn))/(2*epsilon)\n",
    "    return grad"
   ]
  },
  {
   "cell_type": "markdown",
   "id": "50bd3c0d-a5cf-45c6-abba-054e8a1316a2",
   "metadata": {},
   "source": [
    "### Defining Logistic Loss function"
   ]
  },
  {
   "cell_type": "code",
   "execution_count": 83,
   "id": "6c7e71a9-75e0-4686-9521-91059981dabc",
   "metadata": {},
   "outputs": [],
   "source": [
    "def log_loss(w,x,y):\n",
    "    h_w_x = np.dot(w.T,x)\n",
    "    loss = np.sum(np.log(1+np.exp(-1*y*h_w_x)),axis=1)/x.shape[1]\n",
    "    return loss\n"
   ]
  },
  {
   "cell_type": "markdown",
   "id": "c6e80a2d-8cb7-4155-931a-d34577aa11af",
   "metadata": {},
   "source": [
    "### Defining Least Square Loss"
   ]
  },
  {
   "cell_type": "code",
   "execution_count": 63,
   "id": "ade0fd4c-4e50-4078-ba39-5aa27e140d0c",
   "metadata": {},
   "outputs": [],
   "source": [
    "def square_loss(w,x,y):\n",
    "    loss = np.sum((y-np.dot(w.T,x))**2)/x.shape[1]\n",
    "    return loss"
   ]
  },
  {
   "cell_type": "markdown",
   "id": "ebca231d-34d1-406f-a468-abcc85b1bb1b",
   "metadata": {},
   "source": [
    "### Defining Gradient of Logistic Loss Function\n"
   ]
  },
  {
   "cell_type": "code",
   "execution_count": 88,
   "id": "33448674-56e7-43b1-b00c-87a373ccba4a",
   "metadata": {},
   "outputs": [],
   "source": [
    "def grad_log(w,x,y):\n",
    "    h1=np.exp(-1*y*np.dot(w.T,x))\n",
    "    z=h1/(1+h1)\n",
    "    z = z/x.shape[1]\n",
    "    a=np.sum(-1*z*y*x,axis=1)\n",
    "    return np.array(a).reshape((-1,1))\n",
    "    "
   ]
  },
  {
   "cell_type": "markdown",
   "id": "fd8e6bef-52ec-4598-97b6-21f779d24998",
   "metadata": {},
   "source": [
    "### Defining Gradient of Least Square Loss Function"
   ]
  },
  {
   "cell_type": "code",
   "execution_count": 64,
   "id": "6aef0d09-9fab-4ab3-8d67-16419dc4033c",
   "metadata": {},
   "outputs": [],
   "source": [
    "def grad_square(w,x,y):\n",
    "    a=np.sum(-2*(y-np.dot(w.T,x))*x,axis=1)/x.shape[1]\n",
    "    # print(a)\n",
    "    return a.reshape((-1,1))"
   ]
  },
  {
   "cell_type": "markdown",
   "id": "d3be32c0-0eab-4261-8271-20de812cd6b0",
   "metadata": {},
   "source": [
    "### Defining Gradient Descent"
   ]
  },
  {
   "cell_type": "code",
   "execution_count": 52,
   "id": "da3d8c5e-d25a-48d4-aa70-97d0760216bf",
   "metadata": {},
   "outputs": [],
   "source": [
    "def grad_descent(shape,grad_func,lr=0.0001,num_itr=10000):\n",
    "    w=np.zeros((shape,1))\n",
    "    for _ in range(num_itr):\n",
    "        # Compute the gradient of the loss function\n",
    "        gradient = grad_func(w)\n",
    "\n",
    "        # Update the weight vector\n",
    "        w = w - lr * gradient\n",
    "    return w"
   ]
  },
  {
   "cell_type": "markdown",
   "id": "fb2585dc-aedd-419b-bbd3-84d4e9708a27",
   "metadata": {},
   "source": [
    "### Handling Categorical Values"
   ]
  },
  {
   "cell_type": "code",
   "execution_count": 35,
   "id": "e0f2d71d-8990-4522-a1ac-05e3469edf07",
   "metadata": {},
   "outputs": [],
   "source": [
    "data_linear[\"sex\"] = data_linear[\"sex\"].replace({\"male\": 0, \"female\": 1})\n",
    "data_linear[\"smoker\"] = data_linear[\"smoker\"].replace({\"yes\": 1, \"no\": 0})\n",
    "data_linear[\"region\"] = data_linear[\"region\"].replace({\"northwest\": 0, \"northeast\": 1, \"southeast\": 2, \"southwest\":3})\n",
    "data_logistic[\"Gender\"] = data_logistic[\"Gender\"].replace({\"Male\":0, \"Female\":1})\n",
    "data_logistic[\"Purchased\"]=data_logistic[\"Purchased\"].replace({0:-1})"
   ]
  },
  {
   "cell_type": "code",
   "execution_count": 36,
   "id": "f5765ff6-ae85-40b4-9208-03dab828b6db",
   "metadata": {},
   "outputs": [
    {
     "data": {
      "text/html": [
       "<div>\n",
       "<style scoped>\n",
       "    .dataframe tbody tr th:only-of-type {\n",
       "        vertical-align: middle;\n",
       "    }\n",
       "\n",
       "    .dataframe tbody tr th {\n",
       "        vertical-align: top;\n",
       "    }\n",
       "\n",
       "    .dataframe thead th {\n",
       "        text-align: right;\n",
       "    }\n",
       "</style>\n",
       "<table border=\"1\" class=\"dataframe\">\n",
       "  <thead>\n",
       "    <tr style=\"text-align: right;\">\n",
       "      <th></th>\n",
       "      <th>age</th>\n",
       "      <th>sex</th>\n",
       "      <th>bmi</th>\n",
       "      <th>children</th>\n",
       "      <th>smoker</th>\n",
       "      <th>region</th>\n",
       "      <th>charges</th>\n",
       "    </tr>\n",
       "  </thead>\n",
       "  <tbody>\n",
       "    <tr>\n",
       "      <th>0</th>\n",
       "      <td>19</td>\n",
       "      <td>1</td>\n",
       "      <td>27.900</td>\n",
       "      <td>0</td>\n",
       "      <td>1</td>\n",
       "      <td>3</td>\n",
       "      <td>16884.92400</td>\n",
       "    </tr>\n",
       "    <tr>\n",
       "      <th>1</th>\n",
       "      <td>18</td>\n",
       "      <td>0</td>\n",
       "      <td>33.770</td>\n",
       "      <td>1</td>\n",
       "      <td>0</td>\n",
       "      <td>2</td>\n",
       "      <td>1725.55230</td>\n",
       "    </tr>\n",
       "    <tr>\n",
       "      <th>2</th>\n",
       "      <td>28</td>\n",
       "      <td>0</td>\n",
       "      <td>33.000</td>\n",
       "      <td>3</td>\n",
       "      <td>0</td>\n",
       "      <td>2</td>\n",
       "      <td>4449.46200</td>\n",
       "    </tr>\n",
       "    <tr>\n",
       "      <th>3</th>\n",
       "      <td>33</td>\n",
       "      <td>0</td>\n",
       "      <td>22.705</td>\n",
       "      <td>0</td>\n",
       "      <td>0</td>\n",
       "      <td>0</td>\n",
       "      <td>21984.47061</td>\n",
       "    </tr>\n",
       "    <tr>\n",
       "      <th>4</th>\n",
       "      <td>32</td>\n",
       "      <td>0</td>\n",
       "      <td>28.880</td>\n",
       "      <td>0</td>\n",
       "      <td>0</td>\n",
       "      <td>0</td>\n",
       "      <td>3866.85520</td>\n",
       "    </tr>\n",
       "  </tbody>\n",
       "</table>\n",
       "</div>"
      ],
      "text/plain": [
       "   age  sex     bmi  children  smoker  region      charges\n",
       "0   19    1  27.900         0       1       3  16884.92400\n",
       "1   18    0  33.770         1       0       2   1725.55230\n",
       "2   28    0  33.000         3       0       2   4449.46200\n",
       "3   33    0  22.705         0       0       0  21984.47061\n",
       "4   32    0  28.880         0       0       0   3866.85520"
      ]
     },
     "execution_count": 36,
     "metadata": {},
     "output_type": "execute_result"
    }
   ],
   "source": [
    "data_linear.head()"
   ]
  },
  {
   "cell_type": "code",
   "execution_count": 40,
   "id": "a60124a7-de6e-4d36-8ec0-e3cfffa01113",
   "metadata": {},
   "outputs": [
    {
     "data": {
      "text/html": [
       "<div>\n",
       "<style scoped>\n",
       "    .dataframe tbody tr th:only-of-type {\n",
       "        vertical-align: middle;\n",
       "    }\n",
       "\n",
       "    .dataframe tbody tr th {\n",
       "        vertical-align: top;\n",
       "    }\n",
       "\n",
       "    .dataframe thead th {\n",
       "        text-align: right;\n",
       "    }\n",
       "</style>\n",
       "<table border=\"1\" class=\"dataframe\">\n",
       "  <thead>\n",
       "    <tr style=\"text-align: right;\">\n",
       "      <th></th>\n",
       "      <th>User ID</th>\n",
       "      <th>Gender</th>\n",
       "      <th>Age</th>\n",
       "      <th>EstimatedSalary</th>\n",
       "      <th>Purchased</th>\n",
       "    </tr>\n",
       "  </thead>\n",
       "  <tbody>\n",
       "    <tr>\n",
       "      <th>0</th>\n",
       "      <td>15624510</td>\n",
       "      <td>0</td>\n",
       "      <td>19</td>\n",
       "      <td>19000</td>\n",
       "      <td>-1</td>\n",
       "    </tr>\n",
       "    <tr>\n",
       "      <th>1</th>\n",
       "      <td>15810944</td>\n",
       "      <td>0</td>\n",
       "      <td>35</td>\n",
       "      <td>20000</td>\n",
       "      <td>-1</td>\n",
       "    </tr>\n",
       "    <tr>\n",
       "      <th>2</th>\n",
       "      <td>15668575</td>\n",
       "      <td>1</td>\n",
       "      <td>26</td>\n",
       "      <td>43000</td>\n",
       "      <td>-1</td>\n",
       "    </tr>\n",
       "    <tr>\n",
       "      <th>3</th>\n",
       "      <td>15603246</td>\n",
       "      <td>1</td>\n",
       "      <td>27</td>\n",
       "      <td>57000</td>\n",
       "      <td>-1</td>\n",
       "    </tr>\n",
       "    <tr>\n",
       "      <th>4</th>\n",
       "      <td>15804002</td>\n",
       "      <td>0</td>\n",
       "      <td>19</td>\n",
       "      <td>76000</td>\n",
       "      <td>-1</td>\n",
       "    </tr>\n",
       "    <tr>\n",
       "      <th>5</th>\n",
       "      <td>15728773</td>\n",
       "      <td>0</td>\n",
       "      <td>27</td>\n",
       "      <td>58000</td>\n",
       "      <td>-1</td>\n",
       "    </tr>\n",
       "    <tr>\n",
       "      <th>6</th>\n",
       "      <td>15598044</td>\n",
       "      <td>1</td>\n",
       "      <td>27</td>\n",
       "      <td>84000</td>\n",
       "      <td>-1</td>\n",
       "    </tr>\n",
       "    <tr>\n",
       "      <th>7</th>\n",
       "      <td>15694829</td>\n",
       "      <td>1</td>\n",
       "      <td>32</td>\n",
       "      <td>150000</td>\n",
       "      <td>1</td>\n",
       "    </tr>\n",
       "  </tbody>\n",
       "</table>\n",
       "</div>"
      ],
      "text/plain": [
       "    User ID  Gender  Age  EstimatedSalary  Purchased\n",
       "0  15624510       0   19            19000         -1\n",
       "1  15810944       0   35            20000         -1\n",
       "2  15668575       1   26            43000         -1\n",
       "3  15603246       1   27            57000         -1\n",
       "4  15804002       0   19            76000         -1\n",
       "5  15728773       0   27            58000         -1\n",
       "6  15598044       1   27            84000         -1\n",
       "7  15694829       1   32           150000          1"
      ]
     },
     "execution_count": 40,
     "metadata": {},
     "output_type": "execute_result"
    }
   ],
   "source": [
    "data_logistic.head(8)"
   ]
  },
  {
   "cell_type": "markdown",
   "id": "ac744789-877a-4edd-bb97-63b2b1d3bdbf",
   "metadata": {},
   "source": [
    "### Extracting X and Y values in form of numpy array for linear_regression data"
   ]
  },
  {
   "cell_type": "code",
   "execution_count": 92,
   "id": "50ad0b2e-055e-416e-9aca-6c28b3a2fd41",
   "metadata": {},
   "outputs": [
    {
     "data": {
      "text/plain": [
       "(6, 1338)"
      ]
     },
     "execution_count": 92,
     "metadata": {},
     "output_type": "execute_result"
    }
   ],
   "source": [
    "linear_x=data_linear.iloc[:,:-1].values\n",
    "linear_x=linear_x.T\n",
    "linear_x = (linear_x - linear_x.min())/(linear_x.max() - linear_x.min())\n",
    "linear_x.shape"
   ]
  },
  {
   "cell_type": "code",
   "execution_count": 93,
   "id": "a6187e8c-6932-42ee-8077-7523b5bf2345",
   "metadata": {},
   "outputs": [
    {
     "data": {
      "text/plain": [
       "(1, 1338)"
      ]
     },
     "execution_count": 93,
     "metadata": {},
     "output_type": "execute_result"
    }
   ],
   "source": [
    "linear_y=data_linear.iloc[:,-1].values\n",
    "linear_y=linear_y.reshape((1,-1))\n",
    "linear_y.shape"
   ]
  },
  {
   "cell_type": "markdown",
   "id": "7a5b8908-a87f-45e3-95a5-d4d793c415b2",
   "metadata": {},
   "source": [
    "### Verifying Least Square Loss using both gradients"
   ]
  },
  {
   "cell_type": "code",
   "execution_count": 121,
   "id": "50c6c666-dc21-403e-955f-d9a5cf3c09ee",
   "metadata": {},
   "outputs": [
    {
     "name": "stdout",
     "output_type": "stream",
     "text": [
      "   Derivative approach  Numerical Gradient approach\n",
      "0         10042.605755                 10042.605623\n",
      "1           103.353506                   103.353672\n",
      "2          7433.127557                  7433.127560\n",
      "3           281.532366                   281.532556\n",
      "4           167.890072                   167.890392\n",
      "5           352.358655                   352.358679\n"
     ]
    }
   ],
   "source": [
    "# calculating derivative gradient\n",
    "gradientFunc = lambda w: grad_square(w, linear_x, linear_y)\n",
    "w_derivative = grad_descent(linear_x.shape[0], gradientFunc)\n",
    "\n",
    "# calculating numerical gradient\n",
    "funcObj = lambda w: square_loss(w, linear_x, linear_y)\n",
    "gradientFunc = lambda w: numericalGrad(funcObj, w, 0.00001)\n",
    "w_numerical = grad_descent(linear_x.shape[0], gradientFunc)\n",
    "\n",
    "# making DataFrame for comparing weights\n",
    "data=pd.DataFrame(pd.DataFrame({\"Derivative approach\": w_derivative.T[0], \"Numerical Gradient approach\": w_numerical.T[0]}),columns=[\"Derivative approach\",\"Numerical Gradient approach\"])\n",
    "print(data)"
   ]
  },
  {
   "cell_type": "markdown",
   "id": "ec2f9ccd-b91d-4716-b083-f21749e33a23",
   "metadata": {},
   "source": [
    "### Extracting X and Y values in form of numpy array for logistic_regression data"
   ]
  },
  {
   "cell_type": "code",
   "execution_count": 122,
   "id": "98d724a0-4e8c-4e64-8b32-38a95868b4b2",
   "metadata": {},
   "outputs": [
    {
     "data": {
      "text/plain": [
       "(4, 400)"
      ]
     },
     "execution_count": 122,
     "metadata": {},
     "output_type": "execute_result"
    }
   ],
   "source": [
    "logistic_x=data_logistic.iloc[:,:-1].values\n",
    "logistic_x=logistic_x.T\n",
    "logistic_x = (logistic_x - logistic_x.min())/(logistic_x.max() - logistic_x.min())\n",
    "logistic_x.shape\n"
   ]
  },
  {
   "cell_type": "code",
   "execution_count": 123,
   "id": "8c2a2acf-9f58-4999-ab94-23976dd52e17",
   "metadata": {},
   "outputs": [
    {
     "data": {
      "text/plain": [
       "(1, 400)"
      ]
     },
     "execution_count": 123,
     "metadata": {},
     "output_type": "execute_result"
    }
   ],
   "source": [
    "logistic_y=data_logistic.iloc[:,-1].values\n",
    "logistic_y=logistic_y.reshape((1,-1))\n",
    "logistic_y.shape"
   ]
  },
  {
   "cell_type": "markdown",
   "id": "1fbd3c9c-8782-45d7-981b-14174c07d3a5",
   "metadata": {},
   "source": [
    "### Verifying Logistic Loss using both gradients"
   ]
  },
  {
   "cell_type": "code",
   "execution_count": 124,
   "id": "d66bd3f7-6bfe-46c9-9c74-df3b6671c8af",
   "metadata": {},
   "outputs": [
    {
     "name": "stdout",
     "output_type": "stream",
     "text": [
      "   Derivative approach  Numerical Gradient approach\n",
      "0        -1.253286e-01                -1.253286e-01\n",
      "1        -3.430467e-09                -3.430530e-09\n",
      "2        -1.032999e-07                -1.033000e-07\n",
      "3        -1.834312e-04                -1.834312e-04\n"
     ]
    }
   ],
   "source": [
    "# calculating derivative gradient\n",
    "gradientFunc = lambda w: grad_log(w, logistic_x, logistic_y)\n",
    "w_derivative = grad_descent(logistic_x.shape[0], gradientFunc)\n",
    "\n",
    "# calculating numerical gradient\n",
    "funcObj = lambda w: log_loss(w, logistic_x, logistic_y)\n",
    "gradientFunc = lambda w: numericalGrad(funcObj, w, 0.00001)\n",
    "w_numerical = grad_descent(logistic_x.shape[0], gradientFunc)\n",
    "\n",
    "# making DataFrame for comparing weights\n",
    "data=pd.DataFrame(pd.DataFrame({\"Derivative approach\": w_derivative.T[0], \"Numerical Gradient approach\": w_numerical.T[0]}),columns=[\"Derivative approach\",\"Numerical Gradient approach\"])\n",
    "print(data)"
   ]
  },
  {
   "cell_type": "code",
   "execution_count": null,
   "id": "ac9c18f9-9e01-4d36-935e-34564932b532",
   "metadata": {},
   "outputs": [],
   "source": []
  }
 ],
 "metadata": {
  "kernelspec": {
   "display_name": "Python 3 (ipykernel)",
   "language": "python",
   "name": "python3"
  },
  "language_info": {
   "codemirror_mode": {
    "name": "ipython",
    "version": 3
   },
   "file_extension": ".py",
   "mimetype": "text/x-python",
   "name": "python",
   "nbconvert_exporter": "python",
   "pygments_lexer": "ipython3",
   "version": "3.11.5"
  }
 },
 "nbformat": 4,
 "nbformat_minor": 5
}
